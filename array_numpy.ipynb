{
  "nbformat": 4,
  "nbformat_minor": 0,
  "metadata": {
    "colab": {
      "name": "array_numpy.ipynb",
      "provenance": [],
      "authorship_tag": "ABX9TyMnY4eCeloeYXFGP0yYPHV7",
      "include_colab_link": true
    },
    "kernelspec": {
      "name": "python3",
      "display_name": "Python 3"
    },
    "language_info": {
      "name": "python"
    }
  },
  "cells": [
    {
      "cell_type": "markdown",
      "metadata": {
        "id": "view-in-github",
        "colab_type": "text"
      },
      "source": [
        "<a href=\"https://colab.research.google.com/github/mkh-ai/mkh-ai/blob/main/array_numpy.ipynb\" target=\"_parent\"><img src=\"https://colab.research.google.com/assets/colab-badge.svg\" alt=\"Open In Colab\"/></a>"
      ]
    },
    {
      "cell_type": "code",
      "execution_count": 1,
      "metadata": {
        "id": "sH8QuiOlpFY8"
      },
      "outputs": [],
      "source": [
        "import numpy as np"
      ]
    },
    {
      "cell_type": "code",
      "source": [
        "data1 = [1,2,3,4]\n",
        "arr1 = np.array(data1)\n"
      ],
      "metadata": {
        "id": "X4xbISnppS9j"
      },
      "execution_count": 2,
      "outputs": []
    },
    {
      "cell_type": "code",
      "source": [
        "arr1"
      ],
      "metadata": {
        "colab": {
          "base_uri": "https://localhost:8080/"
        },
        "id": "smBiLQKNpycG",
        "outputId": "281e2cc3-4fd1-4d94-db69-2f2c76d73d9c"
      },
      "execution_count": 4,
      "outputs": [
        {
          "output_type": "execute_result",
          "data": {
            "text/plain": [
              "array([1, 2, 3, 4])"
            ]
          },
          "metadata": {},
          "execution_count": 4
        }
      ]
    },
    {
      "cell_type": "code",
      "source": [
        "data2 = (5,6,7,8)\n",
        "arr2= np.array(data2)\n"
      ],
      "metadata": {
        "id": "S4HA-uLdpv50"
      },
      "execution_count": 5,
      "outputs": []
    },
    {
      "cell_type": "code",
      "source": [
        "arr2.ndim    # arr2 ning olchami\n"
      ],
      "metadata": {
        "colab": {
          "base_uri": "https://localhost:8080/"
        },
        "id": "udxvC_cjqTt3",
        "outputId": "8e4ea070-f8cb-4b90-df11-036d0832445d"
      },
      "execution_count": 8,
      "outputs": [
        {
          "output_type": "execute_result",
          "data": {
            "text/plain": [
              "1"
            ]
          },
          "metadata": {},
          "execution_count": 8
        }
      ]
    },
    {
      "cell_type": "markdown",
      "source": [
        "**Ikki va undan yuqori bolgan massivlar**"
      ],
      "metadata": {
        "id": "c8rwu1Fpqz2m"
      }
    },
    {
      "cell_type": "code",
      "source": [
        "data3 = [[1,2,3,4,5],[6,7,8,9]]\n",
        "arr3 = np.array(data3)"
      ],
      "metadata": {
        "colab": {
          "base_uri": "https://localhost:8080/"
        },
        "id": "VBtMNdw7qJL9",
        "outputId": "55bc6789-058b-4e30-f427-f46608018a41"
      },
      "execution_count": 11,
      "outputs": [
        {
          "output_type": "stream",
          "name": "stderr",
          "text": [
            "/usr/local/lib/python3.7/dist-packages/ipykernel_launcher.py:2: VisibleDeprecationWarning: Creating an ndarray from ragged nested sequences (which is a list-or-tuple of lists-or-tuples-or ndarrays with different lengths or shapes) is deprecated. If you meant to do this, you must specify 'dtype=object' when creating the ndarray.\n",
            "  \n"
          ]
        }
      ]
    },
    {
      "cell_type": "code",
      "source": [
        "data4 = [[1,2,3,4],[5,6,7,8,],[9,10,11,12]]   # 3 olchamli massiv\n",
        "arr4 = np.array(data4)\n"
      ],
      "metadata": {
        "id": "V6ADrkaDrO5c"
      },
      "execution_count": 5,
      "outputs": []
    },
    {
      "cell_type": "code",
      "source": [
        "arr4.ndim\n",
        "\n"
      ],
      "metadata": {
        "colab": {
          "base_uri": "https://localhost:8080/"
        },
        "id": "1dOA2uGwrbDE",
        "outputId": "c4d12d79-2124-4b9b-e064-250266258f77"
      },
      "execution_count": 8,
      "outputs": [
        {
          "output_type": "execute_result",
          "data": {
            "text/plain": [
              "2"
            ]
          },
          "metadata": {},
          "execution_count": 8
        }
      ]
    },
    {
      "cell_type": "markdown",
      "source": [
        "# shape va sisze metodlari"
      ],
      "metadata": {
        "id": "lDsD3QgVsYL5"
      }
    },
    {
      "cell_type": "code",
      "source": [
        "\n",
        "arr4.shape  # masssivning qator va ustunlarini sonini korsatadi\n"
      ],
      "metadata": {
        "colab": {
          "base_uri": "https://localhost:8080/"
        },
        "id": "1GCxS5sXsOjo",
        "outputId": "491b08d7-961e-4e3c-91c1-6cac0cbd4cf5"
      },
      "execution_count": 9,
      "outputs": [
        {
          "output_type": "execute_result",
          "data": {
            "text/plain": [
              "(3, 4)"
            ]
          },
          "metadata": {},
          "execution_count": 9
        }
      ]
    },
    {
      "cell_type": "code",
      "source": [
        "arr4.size   # massiv olchamini chiqaradi"
      ],
      "metadata": {
        "colab": {
          "base_uri": "https://localhost:8080/"
        },
        "id": "5YA0ZJqjswZw",
        "outputId": "719ff3b4-e833-4253-f402-3f9e6c7e7fdf"
      },
      "execution_count": 20,
      "outputs": [
        {
          "output_type": "execute_result",
          "data": {
            "text/plain": [
              "12"
            ]
          },
          "metadata": {},
          "execution_count": 20
        }
      ]
    },
    {
      "cell_type": "markdown",
      "source": [
        "# N olchamli massiv yaratishning boshqa usullarni\n"
      ],
      "metadata": {
        "id": "Cjlpw1fVtF9E"
      }
    },
    {
      "cell_type": "markdown",
      "source": [
        "**zeros va ones funksiyalari** "
      ],
      "metadata": {
        "id": "r5NC8zAiuIZz"
      }
    },
    {
      "cell_type": "code",
      "source": [
        "arr5 = np.zeros((3,4))  # barcha elementlari 0 ga teng massiv yaratadi\n",
        "arr5"
      ],
      "metadata": {
        "colab": {
          "base_uri": "https://localhost:8080/"
        },
        "id": "qkdoKXdws8qG",
        "outputId": "5dfc35f0-d725-46c8-8754-ce37daf984a3"
      },
      "execution_count": 22,
      "outputs": [
        {
          "output_type": "execute_result",
          "data": {
            "text/plain": [
              "array([[0., 0., 0., 0.],\n",
              "       [0., 0., 0., 0.],\n",
              "       [0., 0., 0., 0.]])"
            ]
          },
          "metadata": {},
          "execution_count": 22
        }
      ]
    },
    {
      "cell_type": "code",
      "source": [
        "arr6 = np.ones((5,8))   # barcha elementlari 1 ga teng massiv yaratadi\n",
        "arr6"
      ],
      "metadata": {
        "colab": {
          "base_uri": "https://localhost:8080/"
        },
        "id": "pbtPhX7DunjF",
        "outputId": "42ab88b9-1c1f-4cec-91ca-3892fe360b41"
      },
      "execution_count": 23,
      "outputs": [
        {
          "output_type": "execute_result",
          "data": {
            "text/plain": [
              "array([[1., 1., 1., 1., 1., 1., 1., 1.],\n",
              "       [1., 1., 1., 1., 1., 1., 1., 1.],\n",
              "       [1., 1., 1., 1., 1., 1., 1., 1.],\n",
              "       [1., 1., 1., 1., 1., 1., 1., 1.],\n",
              "       [1., 1., 1., 1., 1., 1., 1., 1.]])"
            ]
          },
          "metadata": {},
          "execution_count": 23
        }
      ]
    },
    {
      "cell_type": "markdown",
      "source": [
        "**arange funksiyasi yordanida yaratish**"
      ],
      "metadata": {
        "id": "OE2HVd_lvCT8"
      }
    },
    {
      "cell_type": "code",
      "source": [
        "arr7 = np.arange(34,500,30)  # 30 qadam bilan massiv yaratdi\n",
        "arr7"
      ],
      "metadata": {
        "colab": {
          "base_uri": "https://localhost:8080/"
        },
        "id": "FO3bKlktu_Qf",
        "outputId": "1de67911-d5aa-4cd2-d710-cb16f85b894d"
      },
      "execution_count": 25,
      "outputs": [
        {
          "output_type": "execute_result",
          "data": {
            "text/plain": [
              "array([ 34,  64,  94, 124, 154, 184, 214, 244, 274, 304, 334, 364, 394,\n",
              "       424, 454, 484])"
            ]
          },
          "metadata": {},
          "execution_count": 25
        }
      ]
    },
    {
      "cell_type": "markdown",
      "source": [
        "# Random funksiyasi yordamida yaratish"
      ],
      "metadata": {
        "id": "RQ_hkPnL0w-K"
      }
    },
    {
      "cell_type": "code",
      "source": [
        "arr8 = np.random.randn(4,5)  # (4,5) olchamli elementlari 0 va 1 oraligidagi tahminiy qiymatlardan tasshkil topgana\n",
        "arr8"
      ],
      "metadata": {
        "colab": {
          "base_uri": "https://localhost:8080/"
        },
        "id": "Rkqqok0-vWPf",
        "outputId": "2f6427e8-9e18-4159-f30f-61eaea497c1e"
      },
      "execution_count": 10,
      "outputs": [
        {
          "output_type": "execute_result",
          "data": {
            "text/plain": [
              "array([[ 0.86729019,  0.33059438,  1.16007321, -0.69078763,  0.23957368],\n",
              "       [ 2.05102979, -0.04529707,  0.18126415,  0.43854745,  1.62920157],\n",
              "       [-1.11347006, -0.72349974, -0.82726793, -0.33558207, -1.40298248],\n",
              "       [-1.08099356, -1.47520863,  0.51933904, -0.44859242, -0.45046735]])"
            ]
          },
          "metadata": {},
          "execution_count": 10
        }
      ]
    },
    {
      "cell_type": "code",
      "source": [
        "arr9 = np.random.randint(28,size=(3,6))  # maximal qiymati 28 ga teng bolgan (3,6) olchamli tahminiy qiymatlardan tashkil topgan massiv\n",
        "arr9"
      ],
      "metadata": {
        "colab": {
          "base_uri": "https://localhost:8080/"
        },
        "id": "ipQVcHcD2YWS",
        "outputId": "b54f6d58-b89f-449c-9ab8-772535132cdb"
      },
      "execution_count": 11,
      "outputs": [
        {
          "output_type": "execute_result",
          "data": {
            "text/plain": [
              "array([[19,  1, 21,  2, 10,  5],\n",
              "       [25, 11, 27,  8, 11,  8],\n",
              "       [12, 11, 17,  8,  9, 11]])"
            ]
          },
          "metadata": {},
          "execution_count": 11
        }
      ]
    },
    {
      "cell_type": "code",
      "source": [
        "arr10 = np.random.rand(5,6)\n",
        "arr10"
      ],
      "metadata": {
        "colab": {
          "base_uri": "https://localhost:8080/"
        },
        "id": "cDgEC7wS3EZ9",
        "outputId": "3ac85e94-4fd3-4674-9dd1-31612541fedc"
      },
      "execution_count": 12,
      "outputs": [
        {
          "output_type": "execute_result",
          "data": {
            "text/plain": [
              "array([[0.46917503, 0.75628404, 0.13459108, 0.35858196, 0.04975898,\n",
              "        0.96091065],\n",
              "       [0.20737618, 0.77195476, 0.25467282, 0.23324701, 0.64659113,\n",
              "        0.80680136],\n",
              "       [0.33847713, 0.0884518 , 0.79000095, 0.13213114, 0.98787153,\n",
              "        0.24837722],\n",
              "       [0.02795409, 0.19759791, 0.22969841, 0.48521847, 0.85293056,\n",
              "        0.97993388],\n",
              "       [0.67293241, 0.40005928, 0.93587299, 0.09387016, 0.76118287,\n",
              "        0.38367871]])"
            ]
          },
          "metadata": {},
          "execution_count": 12
        }
      ]
    },
    {
      "cell_type": "code",
      "source": [
        ""
      ],
      "metadata": {
        "id": "EXrQ4kKg3Wl9"
      },
      "execution_count": null,
      "outputs": []
    }
  ]
}
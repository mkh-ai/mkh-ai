{
  "nbformat": 4,
  "nbformat_minor": 0,
  "metadata": {
    "colab": {
      "provenance": [],
      "authorship_tag": "ABX9TyM9qZxO8AW57a4qnBaxksXf",
      "include_colab_link": true
    },
    "kernelspec": {
      "name": "python3",
      "display_name": "Python 3"
    },
    "language_info": {
      "name": "python"
    },
    "accelerator": "GPU",
    "gpuClass": "standard"
  },
  "cells": [
    {
      "cell_type": "markdown",
      "metadata": {
        "id": "view-in-github",
        "colab_type": "text"
      },
      "source": [
        "<a href=\"https://colab.research.google.com/github/mkh-ai/mkh-ai/blob/main/creating_arrays.ipynb\" target=\"_parent\"><img src=\"https://colab.research.google.com/assets/colab-badge.svg\" alt=\"Open In Colab\"/></a>"
      ]
    },
    {
      "cell_type": "code",
      "execution_count": 1,
      "metadata": {
        "id": "_lbL5AVhBuVh"
      },
      "outputs": [],
      "source": [
        "# Bismillah\n"
      ]
    },
    {
      "cell_type": "code",
      "source": [
        "import numpy as np"
      ],
      "metadata": {
        "id": "MXfArQx0B7ZT"
      },
      "execution_count": 2,
      "outputs": []
    },
    {
      "cell_type": "code",
      "source": [
        "data1 = [2,4,5,3.4,9] #list\n",
        "arr1 = np.array(data1)  # array\n",
        "arr1"
      ],
      "metadata": {
        "colab": {
          "base_uri": "https://localhost:8080/"
        },
        "id": "I8ZDgx29CHeF",
        "outputId": "668f2867-03c0-4a9a-8302-9cf03b8a34bd"
      },
      "execution_count": 4,
      "outputs": [
        {
          "output_type": "execute_result",
          "data": {
            "text/plain": [
              "array([2. , 4. , 5. , 3.4, 9. ])"
            ]
          },
          "metadata": {},
          "execution_count": 4
        }
      ]
    },
    {
      "cell_type": "code",
      "source": [
        "data2 = (2,4,3,2,1.3)\n",
        "arr2 = np.array(data2)\n",
        "arr2"
      ],
      "metadata": {
        "colab": {
          "base_uri": "https://localhost:8080/"
        },
        "id": "fZs3_4rwCRX9",
        "outputId": "d87de2c8-08bd-40d3-89a8-623cb4b4c6f4"
      },
      "execution_count": 7,
      "outputs": [
        {
          "output_type": "execute_result",
          "data": {
            "text/plain": [
              "array([2. , 4. , 3. , 2. , 1.3])"
            ]
          },
          "metadata": {},
          "execution_count": 7
        }
      ]
    },
    {
      "cell_type": "markdown",
      "source": [
        "# Massiv o'lchami\n"
      ],
      "metadata": {
        "id": "Uxp-EYcRFHQF"
      }
    },
    {
      "cell_type": "code",
      "source": [
        "arr1.ndim\n"
      ],
      "metadata": {
        "colab": {
          "base_uri": "https://localhost:8080/"
        },
        "id": "5C8zulklCjXR",
        "outputId": "ce11d560-64d1-496c-fedf-99dd56dd3dab"
      },
      "execution_count": 8,
      "outputs": [
        {
          "output_type": "execute_result",
          "data": {
            "text/plain": [
              "1"
            ]
          },
          "metadata": {},
          "execution_count": 8
        }
      ]
    },
    {
      "cell_type": "markdown",
      "source": [
        "# Nested list\n"
      ],
      "metadata": {
        "id": "GRrlWZK1FSV0"
      }
    },
    {
      "cell_type": "code",
      "source": [
        "data3 = [[1,2,3,4], [5,6,7,8]]\n",
        "arr3 = np.array(data3)\n",
        "arr3"
      ],
      "metadata": {
        "colab": {
          "base_uri": "https://localhost:8080/"
        },
        "id": "aDJpL26IFPHZ",
        "outputId": "eb587761-adbb-4bd9-cfc3-bb25b72a0346"
      },
      "execution_count": 11,
      "outputs": [
        {
          "output_type": "execute_result",
          "data": {
            "text/plain": [
              "array([[1, 2, 3, 4],\n",
              "       [5, 6, 7, 8]])"
            ]
          },
          "metadata": {},
          "execution_count": 11
        }
      ]
    },
    {
      "cell_type": "markdown",
      "source": [
        "# Shape va Size metodi"
      ],
      "metadata": {
        "id": "tdblDdrfGDxY"
      }
    },
    {
      "cell_type": "code",
      "source": [
        "arr3.shape # qator va usrunlarini sonini korsatadi\n"
      ],
      "metadata": {
        "colab": {
          "base_uri": "https://localhost:8080/"
        },
        "id": "HjSIsLAEFp-p",
        "outputId": "89abb3b8-aa1d-4e60-87b0-8fe65c9ac49e"
      },
      "execution_count": 12,
      "outputs": [
        {
          "output_type": "execute_result",
          "data": {
            "text/plain": [
              "(2, 4)"
            ]
          },
          "metadata": {},
          "execution_count": 12
        }
      ]
    },
    {
      "cell_type": "code",
      "source": [
        "arr3.size # arrayning elementlar soni"
      ],
      "metadata": {
        "colab": {
          "base_uri": "https://localhost:8080/"
        },
        "id": "2C_xU-j-GXaj",
        "outputId": "23ce7b5d-8ed4-4828-fec5-47547eca4a5f"
      },
      "execution_count": 14,
      "outputs": [
        {
          "output_type": "execute_result",
          "data": {
            "text/plain": [
              "8"
            ]
          },
          "metadata": {},
          "execution_count": 14
        }
      ]
    },
    {
      "cell_type": "markdown",
      "source": [
        "# Array yaratishning zero va ones sussullari"
      ],
      "metadata": {
        "id": "v3PhD38nHBZw"
      }
    },
    {
      "cell_type": "code",
      "source": [
        "arr4 = np.zeros((3,6))# barcha elementlari o ga teng array yaratadi\n",
        "arr4"
      ],
      "metadata": {
        "colab": {
          "base_uri": "https://localhost:8080/"
        },
        "id": "mUzdwt7cGbnb",
        "outputId": "d90a259f-7300-4f8a-fddc-d27d7dac9e1d"
      },
      "execution_count": 16,
      "outputs": [
        {
          "output_type": "execute_result",
          "data": {
            "text/plain": [
              "array([[0., 0., 0., 0., 0., 0.],\n",
              "       [0., 0., 0., 0., 0., 0.],\n",
              "       [0., 0., 0., 0., 0., 0.]])"
            ]
          },
          "metadata": {},
          "execution_count": 16
        }
      ]
    },
    {
      "cell_type": "code",
      "source": [
        "arr5 = np.ones((5,8)) # barcha elementlari 1 ga teng array yaratadi\n",
        "arr5"
      ],
      "metadata": {
        "colab": {
          "base_uri": "https://localhost:8080/"
        },
        "id": "yRAPQ_WdHb6g",
        "outputId": "72b47e8c-a2aa-460e-e6c9-9734b826058a"
      },
      "execution_count": 17,
      "outputs": [
        {
          "output_type": "execute_result",
          "data": {
            "text/plain": [
              "array([[1., 1., 1., 1., 1., 1., 1., 1.],\n",
              "       [1., 1., 1., 1., 1., 1., 1., 1.],\n",
              "       [1., 1., 1., 1., 1., 1., 1., 1.],\n",
              "       [1., 1., 1., 1., 1., 1., 1., 1.],\n",
              "       [1., 1., 1., 1., 1., 1., 1., 1.]])"
            ]
          },
          "metadata": {},
          "execution_count": 17
        }
      ]
    },
    {
      "cell_type": "markdown",
      "source": [
        "# Arange funksiyasi "
      ],
      "metadata": {
        "id": "wzaYoNqbIMiA"
      }
    },
    {
      "cell_type": "code",
      "source": [
        "arr6 = np.arange(3,98,3) # malum  oraliqdagi array yaratish\n",
        "arr6"
      ],
      "metadata": {
        "colab": {
          "base_uri": "https://localhost:8080/"
        },
        "id": "XNfwJ9IaHyYY",
        "outputId": "b6765c78-8ffb-4297-865b-5fc8c338b5c7"
      },
      "execution_count": 19,
      "outputs": [
        {
          "output_type": "execute_result",
          "data": {
            "text/plain": [
              "array([ 3,  6,  9, 12, 15, 18, 21, 24, 27, 30, 33, 36, 39, 42, 45, 48, 51,\n",
              "       54, 57, 60, 63, 66, 69, 72, 75, 78, 81, 84, 87, 90, 93, 96])"
            ]
          },
          "metadata": {},
          "execution_count": 19
        }
      ]
    },
    {
      "cell_type": "markdown",
      "source": [],
      "metadata": {
        "id": "xVUFk72sI3wd"
      }
    },
    {
      "cell_type": "code",
      "source": [],
      "metadata": {
        "id": "nwFVQ02EI3H_"
      },
      "execution_count": null,
      "outputs": []
    }
  ]
}